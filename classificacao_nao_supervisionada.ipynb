{
 "cells": [
  {
   "attachments": {},
   "cell_type": "markdown",
   "metadata": {},
   "source": [
    "# Infraestrutura"
   ]
  },
  {
   "attachments": {},
   "cell_type": "markdown",
   "metadata": {},
   "source": [
    "> Versão do Python e ambiente virtual"
   ]
  },
  {
   "attachments": {
    "image.png": {
     "image/png": "[encoded data removed]"
    }
   },
   "cell_type": "markdown",
   "metadata": {},
   "source": [
    "![image.png](attachment:image.png)"
   ]
  },
  {
   "attachments": {},
   "cell_type": "markdown",
   "metadata": {},
   "source": [
    "# Libs"
   ]
  },
  {
   "attachments": {},
   "cell_type": "markdown",
   "metadata": {},
   "source": [
    "## Plot"
   ]
  },
  {
   "cell_type": "code",
   "execution_count": null,
   "metadata": {},
   "outputs": [],
   "source": [
    "import matplotlib.pyplot as plt\n",
    "import seaborn as sns"
   ]
  },
  {
   "attachments": {},
   "cell_type": "markdown",
   "metadata": {},
   "source": [
    "## Cluster"
   ]
  },
  {
   "cell_type": "code",
   "execution_count": 29,
   "metadata": {},
   "outputs": [],
   "source": [
    "from sklearn.decomposition import PCA\n",
    "from sklearn.preprocessing import Normalizer"
   ]
  },
  {
   "attachments": {},
   "cell_type": "markdown",
   "metadata": {},
   "source": [
    "## Data manipulation"
   ]
  },
  {
   "cell_type": "code",
   "execution_count": null,
   "metadata": {},
   "outputs": [],
   "source": [
    "import pandas as pd\n",
    "import os"
   ]
  },
  {
   "attachments": {},
   "cell_type": "markdown",
   "metadata": {},
   "source": [
    "## Data Request"
   ]
  },
  {
   "cell_type": "code",
   "execution_count": null,
   "metadata": {},
   "outputs": [],
   "source": [
    "def handle_dataframe():\n",
    "    files = [f'data/archive/{csv}' for csv in os.listdir('data/archive') if '.csv' in csv]\n",
    "    datasets = []\n",
    "    for file in files:\n",
    "        df = pd.read_csv(file, index_col=None, header=0)\n",
    "        df['name'] = file.replace('data/archive/', '').replace('.csv', '')\n",
    "        datasets.append(df)\n",
    "\n",
    "    return pd.concat(datasets, axis=0, ignore_index=True)\n",
    "\n",
    "df_s_e_p_500 = handle_dataframe()"
   ]
  },
  {
   "attachments": {},
   "cell_type": "markdown",
   "metadata": {},
   "source": [
    "# Escolha da base"
   ]
  },
  {
   "attachments": {},
   "cell_type": "markdown",
   "metadata": {},
   "source": [
    "1- Escolha uma base de dados para realizar o trabalho. Essa base será usada em um problema de clusterização.\n",
    "> Preços das ações do S&P 500"
   ]
  },
  {
   "attachments": {},
   "cell_type": "markdown",
   "metadata": {},
   "source": [
    "2- Escreva a justificativa para a escolha de dados, dando sua motivação e objetivos.\n",
    "> Trabalhar com dados na área de finanças, buscando aumentar meus conhecimentos no ramo, tendo em vista meu campo de atuação em uma empresa do setor financeiro"
   ]
  },
  {
   "attachments": {},
   "cell_type": "markdown",
   "metadata": {},
   "source": [
    "3- Mostre através de gráficos a faixa dinâmica das variáveis que serão usadas nas tarefas de clusterização. "
   ]
  },
  {
   "cell_type": "code",
   "execution_count": 26,
   "metadata": {},
   "outputs": [
    {
     "data": {
      "text/html": [
       "<div>\n",
       "<style scoped>\n",
       "    .dataframe tbody tr th:only-of-type {\n",
       "        vertical-align: middle;\n",
       "    }\n",
       "\n",
       "    .dataframe tbody tr th {\n",
       "        vertical-align: top;\n",
       "    }\n",
       "\n",
       "    .dataframe thead th {\n",
       "        text-align: right;\n",
       "    }\n",
       "</style>\n",
       "<table border=\"1\" class=\"dataframe\">\n",
       "  <thead>\n",
       "    <tr style=\"text-align: right;\">\n",
       "      <th></th>\n",
       "      <th>Open</th>\n",
       "      <th>High</th>\n",
       "      <th>Low</th>\n",
       "      <th>Close</th>\n",
       "      <th>Adj Close</th>\n",
       "      <th>Volume</th>\n",
       "    </tr>\n",
       "  </thead>\n",
       "  <tbody>\n",
       "    <tr>\n",
       "      <th>count</th>\n",
       "      <td>4.120670e+06</td>\n",
       "      <td>4.120670e+06</td>\n",
       "      <td>4.120670e+06</td>\n",
       "      <td>4.120670e+06</td>\n",
       "      <td>4.120670e+06</td>\n",
       "      <td>4.120670e+06</td>\n",
       "    </tr>\n",
       "    <tr>\n",
       "      <th>mean</th>\n",
       "      <td>4.907833e+01</td>\n",
       "      <td>4.999149e+01</td>\n",
       "      <td>4.880729e+01</td>\n",
       "      <td>4.941343e+01</td>\n",
       "      <td>4.204558e+01</td>\n",
       "      <td>5.240059e+06</td>\n",
       "    </tr>\n",
       "    <tr>\n",
       "      <th>std</th>\n",
       "      <td>1.180251e+02</td>\n",
       "      <td>1.193862e+02</td>\n",
       "      <td>1.163993e+02</td>\n",
       "      <td>1.179184e+02</td>\n",
       "      <td>1.142766e+02</td>\n",
       "      <td>2.882202e+07</td>\n",
       "    </tr>\n",
       "    <tr>\n",
       "      <th>min</th>\n",
       "      <td>0.000000e+00</td>\n",
       "      <td>1.302100e-02</td>\n",
       "      <td>1.237000e-02</td>\n",
       "      <td>1.302100e-02</td>\n",
       "      <td>1.858731e-03</td>\n",
       "      <td>0.000000e+00</td>\n",
       "    </tr>\n",
       "    <tr>\n",
       "      <th>25%</th>\n",
       "      <td>7.863405e+00</td>\n",
       "      <td>8.474527e+00</td>\n",
       "      <td>8.243189e+00</td>\n",
       "      <td>8.360000e+00</td>\n",
       "      <td>4.120000e+00</td>\n",
       "      <td>4.428000e+05</td>\n",
       "    </tr>\n",
       "    <tr>\n",
       "      <th>50%</th>\n",
       "      <td>2.434667e+01</td>\n",
       "      <td>2.475000e+01</td>\n",
       "      <td>2.412500e+01</td>\n",
       "      <td>2.445500e+01</td>\n",
       "      <td>1.637348e+01</td>\n",
       "      <td>1.338500e+06</td>\n",
       "    </tr>\n",
       "    <tr>\n",
       "      <th>75%</th>\n",
       "      <td>5.343000e+01</td>\n",
       "      <td>5.403000e+01</td>\n",
       "      <td>5.281250e+01</td>\n",
       "      <td>5.345000e+01</td>\n",
       "      <td>4.289384e+01</td>\n",
       "      <td>3.563600e+06</td>\n",
       "    </tr>\n",
       "    <tr>\n",
       "      <th>max</th>\n",
       "      <td>5.977610e+03</td>\n",
       "      <td>5.982450e+03</td>\n",
       "      <td>5.884060e+03</td>\n",
       "      <td>5.959330e+03</td>\n",
       "      <td>5.959330e+03</td>\n",
       "      <td>7.421641e+09</td>\n",
       "    </tr>\n",
       "  </tbody>\n",
       "</table>\n",
       "</div>"
      ],
      "text/plain": [
       "               Open          High           Low         Close     Adj Close  \\\n",
       "count  4.120670e+06  4.120670e+06  4.120670e+06  4.120670e+06  4.120670e+06   \n",
       "mean   4.907833e+01  4.999149e+01  4.880729e+01  4.941343e+01  4.204558e+01   \n",
       "std    1.180251e+02  1.193862e+02  1.163993e+02  1.179184e+02  1.142766e+02   \n",
       "min    0.000000e+00  1.302100e-02  1.237000e-02  1.302100e-02  1.858731e-03   \n",
       "25%    7.863405e+00  8.474527e+00  8.243189e+00  8.360000e+00  4.120000e+00   \n",
       "50%    2.434667e+01  2.475000e+01  2.412500e+01  2.445500e+01  1.637348e+01   \n",
       "75%    5.343000e+01  5.403000e+01  5.281250e+01  5.345000e+01  4.289384e+01   \n",
       "max    5.977610e+03  5.982450e+03  5.884060e+03  5.959330e+03  5.959330e+03   \n",
       "\n",
       "             Volume  \n",
       "count  4.120670e+06  \n",
       "mean   5.240059e+06  \n",
       "std    2.882202e+07  \n",
       "min    0.000000e+00  \n",
       "25%    4.428000e+05  \n",
       "50%    1.338500e+06  \n",
       "75%    3.563600e+06  \n",
       "max    7.421641e+09  "
      ]
     },
     "execution_count": 26,
     "metadata": {},
     "output_type": "execute_result"
    }
   ],
   "source": [
    "df_s_e_p_500.describe()"
   ]
  },
  {
   "cell_type": "code",
   "execution_count": 27,
   "metadata": {},
   "outputs": [
    {
     "data": {
      "text/plain": [
       "<AxesSubplot: >"
      ]
     },
     "execution_count": 27,
     "metadata": {},
     "output_type": "execute_result"
    },
    {
     "data": {
      "image/png": "[encoded data removed]",
      "text/plain": [
       "<Figure size 640x480 with 1 Axes>"
      ]
     },
     "metadata": {},
     "output_type": "display_data"
    }
   ],
   "source": [
    "plt.xticks(rotation=70)\n",
    "sns.barplot(data=df_s_e_p_500)"
   ]
  },
  {
   "cell_type": "code",
   "execution_count": 28,
   "metadata": {},
   "outputs": [
    {
     "data": {
      "text/plain": [
       "[<matplotlib.lines.Line2D at 0x7f9fc2a16980>]"
      ]
     },
     "execution_count": 28,
     "metadata": {},
     "output_type": "execute_result"
    },
    {
     "data": {
      "image/png": "[encoded data removed]",
      "text/plain": [
       "<Figure size 2000x1000 with 2 Axes>"
      ]
     },
     "metadata": {},
     "output_type": "display_data"
    }
   ],
   "source": [
    "plt.figure(figsize = (20,10)) \n",
    "ax1 = plt.subplot(1,2,1)\n",
    "plt.title('Company:LRCX',fontsize = 20)\n",
    "plt.xticks(fontsize = 10)\n",
    "plt.yticks(fontsize = 20)\n",
    "plt.xlabel('Date',fontsize = 15)\n",
    "plt.ylabel('Opening price',fontsize = 15)\n",
    "plt.plot(df_s_e_p_500.query('name == \"LRCX\"')['Open'])\n",
    "plt.subplot(1,2,2, sharey = ax1) \n",
    "plt.title('Company:KDP',fontsize = 20)\n",
    "plt.xticks(fontsize = 10)\n",
    "plt.yticks(fontsize = 20)\n",
    "plt.xlabel('Date',fontsize = 15)\n",
    "plt.ylabel('Opening price',fontsize = 15)\n",
    "plt.plot(df_s_e_p_500.query('name == \"KDP\"')['Open'])"
   ]
  },
  {
   "attachments": {},
   "cell_type": "markdown",
   "metadata": {},
   "source": [
    "4- Analise os resultados mostrados. O que deve ser feito com os dados antes da etapa de clusterização?\n",
    "> As variáveis, bem como o preço entre as ações possuem escalas diferentes, necessitando que seje feita a normalização dos dados, permitindo a correta clusterização."
   ]
  },
  {
   "attachments": {},
   "cell_type": "markdown",
   "metadata": {},
   "source": [
    "5- Realize o pré-processamento adequado dos dados. Descreva os passos necessários.\n",
    "- Obtenção dos dados, utilizando a leitura dos arquivos csv, onde cada arquivo representa a série histórica de uma única ação;\n",
    "- Junção dos csv, criando a coluna name, para diferenciar os dados de cada ação;\n",
    "- Verificação da distribuição das variáveis, por meio de gráfico e da função describe, presente no pandas;\n",
    "- Necessidade de normalização. Foi utilizada a função Normalizer da biblioteca Sklearn.\n",
    "- Na normalização é necessário retirar as colunas \"Date\" e \"name\", que representam informações descritivas dos dados.\n"
   ]
  },
  {
   "cell_type": "code",
   "execution_count": 6,
   "metadata": {},
   "outputs": [
    {
     "data": {
      "text/html": [
       "<div>\n",
       "<style scoped>\n",
       "    .dataframe tbody tr th:only-of-type {\n",
       "        vertical-align: middle;\n",
       "    }\n",
       "\n",
       "    .dataframe tbody tr th {\n",
       "        vertical-align: top;\n",
       "    }\n",
       "\n",
       "    .dataframe thead th {\n",
       "        text-align: right;\n",
       "    }\n",
       "</style>\n",
       "<table border=\"1\" class=\"dataframe\">\n",
       "  <thead>\n",
       "    <tr style=\"text-align: right;\">\n",
       "      <th></th>\n",
       "      <th>Date</th>\n",
       "      <th>Open</th>\n",
       "      <th>High</th>\n",
       "      <th>Low</th>\n",
       "      <th>Close</th>\n",
       "      <th>Adj Close</th>\n",
       "      <th>Volume</th>\n",
       "      <th>name</th>\n",
       "    </tr>\n",
       "  </thead>\n",
       "  <tbody>\n",
       "    <tr>\n",
       "      <th>9598</th>\n",
       "      <td>2022-06-02</td>\n",
       "      <td>503.059998</td>\n",
       "      <td>523.789978</td>\n",
       "      <td>502.049988</td>\n",
       "      <td>523.299988</td>\n",
       "      <td>517.602722</td>\n",
       "      <td>1160000.0</td>\n",
       "      <td>LRCX</td>\n",
       "    </tr>\n",
       "    <tr>\n",
       "      <th>9599</th>\n",
       "      <td>2022-06-03</td>\n",
       "      <td>512.690002</td>\n",
       "      <td>521.270020</td>\n",
       "      <td>509.209991</td>\n",
       "      <td>513.979980</td>\n",
       "      <td>508.384155</td>\n",
       "      <td>1330400.0</td>\n",
       "      <td>LRCX</td>\n",
       "    </tr>\n",
       "    <tr>\n",
       "      <th>9600</th>\n",
       "      <td>2022-06-06</td>\n",
       "      <td>526.669983</td>\n",
       "      <td>532.890015</td>\n",
       "      <td>513.700012</td>\n",
       "      <td>516.260010</td>\n",
       "      <td>510.639465</td>\n",
       "      <td>785200.0</td>\n",
       "      <td>LRCX</td>\n",
       "    </tr>\n",
       "    <tr>\n",
       "      <th>9601</th>\n",
       "      <td>2022-06-07</td>\n",
       "      <td>509.420013</td>\n",
       "      <td>524.969971</td>\n",
       "      <td>508.350006</td>\n",
       "      <td>523.440002</td>\n",
       "      <td>517.741272</td>\n",
       "      <td>1150200.0</td>\n",
       "      <td>LRCX</td>\n",
       "    </tr>\n",
       "    <tr>\n",
       "      <th>9602</th>\n",
       "      <td>2022-06-08</td>\n",
       "      <td>521.869995</td>\n",
       "      <td>524.070007</td>\n",
       "      <td>507.950012</td>\n",
       "      <td>512.130005</td>\n",
       "      <td>506.554352</td>\n",
       "      <td>900900.0</td>\n",
       "      <td>LRCX</td>\n",
       "    </tr>\n",
       "    <tr>\n",
       "      <th>...</th>\n",
       "      <td>...</td>\n",
       "      <td>...</td>\n",
       "      <td>...</td>\n",
       "      <td>...</td>\n",
       "      <td>...</td>\n",
       "      <td>...</td>\n",
       "      <td>...</td>\n",
       "      <td>...</td>\n",
       "    </tr>\n",
       "    <tr>\n",
       "      <th>4120665</th>\n",
       "      <td>2022-12-07</td>\n",
       "      <td>94.010002</td>\n",
       "      <td>95.089996</td>\n",
       "      <td>93.750000</td>\n",
       "      <td>94.709999</td>\n",
       "      <td>94.709999</td>\n",
       "      <td>4378700.0</td>\n",
       "      <td>EMR</td>\n",
       "    </tr>\n",
       "    <tr>\n",
       "      <th>4120666</th>\n",
       "      <td>2022-12-08</td>\n",
       "      <td>95.190002</td>\n",
       "      <td>95.639999</td>\n",
       "      <td>94.580002</td>\n",
       "      <td>94.930000</td>\n",
       "      <td>94.930000</td>\n",
       "      <td>2718800.0</td>\n",
       "      <td>EMR</td>\n",
       "    </tr>\n",
       "    <tr>\n",
       "      <th>4120667</th>\n",
       "      <td>2022-12-09</td>\n",
       "      <td>95.209999</td>\n",
       "      <td>95.889999</td>\n",
       "      <td>94.050003</td>\n",
       "      <td>94.190002</td>\n",
       "      <td>94.190002</td>\n",
       "      <td>2579600.0</td>\n",
       "      <td>EMR</td>\n",
       "    </tr>\n",
       "    <tr>\n",
       "      <th>4120668</th>\n",
       "      <td>2022-12-12</td>\n",
       "      <td>94.589996</td>\n",
       "      <td>96.199997</td>\n",
       "      <td>94.360001</td>\n",
       "      <td>96.150002</td>\n",
       "      <td>96.150002</td>\n",
       "      <td>2869500.0</td>\n",
       "      <td>EMR</td>\n",
       "    </tr>\n",
       "    <tr>\n",
       "      <th>4120669</th>\n",
       "      <td>2022-12-13</td>\n",
       "      <td>98.000000</td>\n",
       "      <td>98.879997</td>\n",
       "      <td>97.309998</td>\n",
       "      <td>98.070000</td>\n",
       "      <td>98.070000</td>\n",
       "      <td>4060700.0</td>\n",
       "      <td>EMR</td>\n",
       "    </tr>\n",
       "  </tbody>\n",
       "</table>\n",
       "<p>67500 rows × 8 columns</p>\n",
       "</div>"
      ],
      "text/plain": [
       "               Date        Open        High         Low       Close  \\\n",
       "9598     2022-06-02  503.059998  523.789978  502.049988  523.299988   \n",
       "9599     2022-06-03  512.690002  521.270020  509.209991  513.979980   \n",
       "9600     2022-06-06  526.669983  532.890015  513.700012  516.260010   \n",
       "9601     2022-06-07  509.420013  524.969971  508.350006  523.440002   \n",
       "9602     2022-06-08  521.869995  524.070007  507.950012  512.130005   \n",
       "...             ...         ...         ...         ...         ...   \n",
       "4120665  2022-12-07   94.010002   95.089996   93.750000   94.709999   \n",
       "4120666  2022-12-08   95.190002   95.639999   94.580002   94.930000   \n",
       "4120667  2022-12-09   95.209999   95.889999   94.050003   94.190002   \n",
       "4120668  2022-12-12   94.589996   96.199997   94.360001   96.150002   \n",
       "4120669  2022-12-13   98.000000   98.879997   97.309998   98.070000   \n",
       "\n",
       "          Adj Close     Volume  name  \n",
       "9598     517.602722  1160000.0  LRCX  \n",
       "9599     508.384155  1330400.0  LRCX  \n",
       "9600     510.639465   785200.0  LRCX  \n",
       "9601     517.741272  1150200.0  LRCX  \n",
       "9602     506.554352   900900.0  LRCX  \n",
       "...             ...        ...   ...  \n",
       "4120665   94.709999  4378700.0   EMR  \n",
       "4120666   94.930000  2718800.0   EMR  \n",
       "4120667   94.190002  2579600.0   EMR  \n",
       "4120668   96.150002  2869500.0   EMR  \n",
       "4120669   98.070000  4060700.0   EMR  \n",
       "\n",
       "[67500 rows x 8 columns]"
      ]
     },
     "execution_count": 6,
     "metadata": {},
     "output_type": "execute_result"
    }
   ],
   "source": [
    "mask = df_s_e_p_500.Date > '2022-06-01'\n",
    "df_s_e_p_500 = df_s_e_p_500[mask]\n",
    "df_s_e_p_500"
   ]
  },
  {
   "attachments": {},
   "cell_type": "markdown",
   "metadata": {},
   "source": [
    "# Clusterização"
   ]
  },
  {
   "attachments": {},
   "cell_type": "markdown",
   "metadata": {},
   "source": [
    "## Pre-Processamento"
   ]
  },
  {
   "cell_type": "code",
   "execution_count": 12,
   "metadata": {},
   "outputs": [
    {
     "data": {
      "text/html": [
       "<div>\n",
       "<style scoped>\n",
       "    .dataframe tbody tr th:only-of-type {\n",
       "        vertical-align: middle;\n",
       "    }\n",
       "\n",
       "    .dataframe tbody tr th {\n",
       "        vertical-align: top;\n",
       "    }\n",
       "\n",
       "    .dataframe thead th {\n",
       "        text-align: right;\n",
       "    }\n",
       "</style>\n",
       "<table border=\"1\" class=\"dataframe\">\n",
       "  <thead>\n",
       "    <tr style=\"text-align: right;\">\n",
       "      <th></th>\n",
       "      <th>Open</th>\n",
       "      <th>High</th>\n",
       "      <th>Low</th>\n",
       "      <th>Close</th>\n",
       "      <th>Adj Close</th>\n",
       "      <th>Volume</th>\n",
       "    </tr>\n",
       "  </thead>\n",
       "  <tbody>\n",
       "    <tr>\n",
       "      <th>0</th>\n",
       "      <td>0.000000</td>\n",
       "      <td>8.724481e-07</td>\n",
       "      <td>8.616771e-07</td>\n",
       "      <td>8.616771e-07</td>\n",
       "      <td>7.557619e-07</td>\n",
       "      <td>1.0</td>\n",
       "    </tr>\n",
       "    <tr>\n",
       "      <th>1</th>\n",
       "      <td>0.000000</td>\n",
       "      <td>2.192982e-05</td>\n",
       "      <td>2.138834e-05</td>\n",
       "      <td>2.138834e-05</td>\n",
       "      <td>1.875935e-05</td>\n",
       "      <td>1.0</td>\n",
       "    </tr>\n",
       "    <tr>\n",
       "      <th>2</th>\n",
       "      <td>0.000000</td>\n",
       "      <td>1.619105e-05</td>\n",
       "      <td>1.598866e-05</td>\n",
       "      <td>1.598866e-05</td>\n",
       "      <td>1.402338e-05</td>\n",
       "      <td>1.0</td>\n",
       "    </tr>\n",
       "    <tr>\n",
       "      <th>3</th>\n",
       "      <td>0.000000</td>\n",
       "      <td>2.996524e-06</td>\n",
       "      <td>2.959067e-06</td>\n",
       "      <td>2.959067e-06</td>\n",
       "      <td>2.595346e-06</td>\n",
       "      <td>1.0</td>\n",
       "    </tr>\n",
       "    <tr>\n",
       "      <th>4</th>\n",
       "      <td>0.000000</td>\n",
       "      <td>7.224507e-06</td>\n",
       "      <td>7.041610e-06</td>\n",
       "      <td>7.041610e-06</td>\n",
       "      <td>6.176074e-06</td>\n",
       "      <td>1.0</td>\n",
       "    </tr>\n",
       "    <tr>\n",
       "      <th>...</th>\n",
       "      <td>...</td>\n",
       "      <td>...</td>\n",
       "      <td>...</td>\n",
       "      <td>...</td>\n",
       "      <td>...</td>\n",
       "      <td>...</td>\n",
       "    </tr>\n",
       "    <tr>\n",
       "      <th>4120665</th>\n",
       "      <td>0.000021</td>\n",
       "      <td>2.171649e-05</td>\n",
       "      <td>2.141046e-05</td>\n",
       "      <td>2.162971e-05</td>\n",
       "      <td>2.162971e-05</td>\n",
       "      <td>1.0</td>\n",
       "    </tr>\n",
       "    <tr>\n",
       "      <th>4120666</th>\n",
       "      <td>0.000035</td>\n",
       "      <td>3.517728e-05</td>\n",
       "      <td>3.478741e-05</td>\n",
       "      <td>3.491614e-05</td>\n",
       "      <td>3.491614e-05</td>\n",
       "      <td>1.0</td>\n",
       "    </tr>\n",
       "    <tr>\n",
       "      <th>4120667</th>\n",
       "      <td>0.000037</td>\n",
       "      <td>3.717243e-05</td>\n",
       "      <td>3.645914e-05</td>\n",
       "      <td>3.651341e-05</td>\n",
       "      <td>3.651341e-05</td>\n",
       "      <td>1.0</td>\n",
       "    </tr>\n",
       "    <tr>\n",
       "      <th>4120668</th>\n",
       "      <td>0.000033</td>\n",
       "      <td>3.352500e-05</td>\n",
       "      <td>3.288378e-05</td>\n",
       "      <td>3.350758e-05</td>\n",
       "      <td>3.350758e-05</td>\n",
       "      <td>1.0</td>\n",
       "    </tr>\n",
       "    <tr>\n",
       "      <th>4120669</th>\n",
       "      <td>0.000024</td>\n",
       "      <td>2.435048e-05</td>\n",
       "      <td>2.396385e-05</td>\n",
       "      <td>2.415101e-05</td>\n",
       "      <td>2.415101e-05</td>\n",
       "      <td>1.0</td>\n",
       "    </tr>\n",
       "  </tbody>\n",
       "</table>\n",
       "<p>4120670 rows × 6 columns</p>\n",
       "</div>"
      ],
      "text/plain": [
       "             Open          High           Low         Close     Adj Close  \\\n",
       "0        0.000000  8.724481e-07  8.616771e-07  8.616771e-07  7.557619e-07   \n",
       "1        0.000000  2.192982e-05  2.138834e-05  2.138834e-05  1.875935e-05   \n",
       "2        0.000000  1.619105e-05  1.598866e-05  1.598866e-05  1.402338e-05   \n",
       "3        0.000000  2.996524e-06  2.959067e-06  2.959067e-06  2.595346e-06   \n",
       "4        0.000000  7.224507e-06  7.041610e-06  7.041610e-06  6.176074e-06   \n",
       "...           ...           ...           ...           ...           ...   \n",
       "4120665  0.000021  2.171649e-05  2.141046e-05  2.162971e-05  2.162971e-05   \n",
       "4120666  0.000035  3.517728e-05  3.478741e-05  3.491614e-05  3.491614e-05   \n",
       "4120667  0.000037  3.717243e-05  3.645914e-05  3.651341e-05  3.651341e-05   \n",
       "4120668  0.000033  3.352500e-05  3.288378e-05  3.350758e-05  3.350758e-05   \n",
       "4120669  0.000024  2.435048e-05  2.396385e-05  2.415101e-05  2.415101e-05   \n",
       "\n",
       "         Volume  \n",
       "0           1.0  \n",
       "1           1.0  \n",
       "2           1.0  \n",
       "3           1.0  \n",
       "4           1.0  \n",
       "...         ...  \n",
       "4120665     1.0  \n",
       "4120666     1.0  \n",
       "4120667     1.0  \n",
       "4120668     1.0  \n",
       "4120669     1.0  \n",
       "\n",
       "[4120670 rows x 6 columns]"
      ]
     },
     "execution_count": 12,
     "metadata": {},
     "output_type": "execute_result"
    }
   ],
   "source": [
    "normalizer = Normalizer()\n",
    "data_normalizer = normalizer.fit_transform(df_s_e_p_500.drop(columns=['Date', 'name']))\n",
    "df_normalizer = pd.DataFrame(data_normalizer, columns=['Open', 'High', 'Low', 'Close', 'Adj Close', 'Volume'])\n",
    "df_normalizer"
   ]
  },
  {
   "attachments": {},
   "cell_type": "markdown",
   "metadata": {},
   "source": [
    "# Medidas de similaridade"
   ]
  },
  {
   "cell_type": "code",
   "execution_count": null,
   "metadata": {},
   "outputs": [],
   "source": []
  },
  {
   "cell_type": "code",
   "execution_count": 11,
   "metadata": {},
   "outputs": [
    {
     "data": {
      "text/html": [
       "<div>\n",
       "<style scoped>\n",
       "    .dataframe tbody tr th:only-of-type {\n",
       "        vertical-align: middle;\n",
       "    }\n",
       "\n",
       "    .dataframe tbody tr th {\n",
       "        vertical-align: top;\n",
       "    }\n",
       "\n",
       "    .dataframe thead th {\n",
       "        text-align: right;\n",
       "    }\n",
       "</style>\n",
       "<table border=\"1\" class=\"dataframe\">\n",
       "  <thead>\n",
       "    <tr style=\"text-align: right;\">\n",
       "      <th></th>\n",
       "      <th>0</th>\n",
       "      <th>1</th>\n",
       "      <th>2</th>\n",
       "      <th>3</th>\n",
       "      <th>4</th>\n",
       "      <th>5</th>\n",
       "    </tr>\n",
       "  </thead>\n",
       "  <tbody>\n",
       "    <tr>\n",
       "      <th>0</th>\n",
       "      <td>0.000000</td>\n",
       "      <td>8.724481e-07</td>\n",
       "      <td>8.616771e-07</td>\n",
       "      <td>8.616771e-07</td>\n",
       "      <td>7.557619e-07</td>\n",
       "      <td>1.0</td>\n",
       "    </tr>\n",
       "    <tr>\n",
       "      <th>1</th>\n",
       "      <td>0.000000</td>\n",
       "      <td>2.192982e-05</td>\n",
       "      <td>2.138834e-05</td>\n",
       "      <td>2.138834e-05</td>\n",
       "      <td>1.875935e-05</td>\n",
       "      <td>1.0</td>\n",
       "    </tr>\n",
       "    <tr>\n",
       "      <th>2</th>\n",
       "      <td>0.000000</td>\n",
       "      <td>1.619105e-05</td>\n",
       "      <td>1.598866e-05</td>\n",
       "      <td>1.598866e-05</td>\n",
       "      <td>1.402338e-05</td>\n",
       "      <td>1.0</td>\n",
       "    </tr>\n",
       "    <tr>\n",
       "      <th>3</th>\n",
       "      <td>0.000000</td>\n",
       "      <td>2.996524e-06</td>\n",
       "      <td>2.959067e-06</td>\n",
       "      <td>2.959067e-06</td>\n",
       "      <td>2.595346e-06</td>\n",
       "      <td>1.0</td>\n",
       "    </tr>\n",
       "    <tr>\n",
       "      <th>4</th>\n",
       "      <td>0.000000</td>\n",
       "      <td>7.224507e-06</td>\n",
       "      <td>7.041610e-06</td>\n",
       "      <td>7.041610e-06</td>\n",
       "      <td>6.176074e-06</td>\n",
       "      <td>1.0</td>\n",
       "    </tr>\n",
       "    <tr>\n",
       "      <th>...</th>\n",
       "      <td>...</td>\n",
       "      <td>...</td>\n",
       "      <td>...</td>\n",
       "      <td>...</td>\n",
       "      <td>...</td>\n",
       "      <td>...</td>\n",
       "    </tr>\n",
       "    <tr>\n",
       "      <th>4120665</th>\n",
       "      <td>0.000021</td>\n",
       "      <td>2.171649e-05</td>\n",
       "      <td>2.141046e-05</td>\n",
       "      <td>2.162971e-05</td>\n",
       "      <td>2.162971e-05</td>\n",
       "      <td>1.0</td>\n",
       "    </tr>\n",
       "    <tr>\n",
       "      <th>4120666</th>\n",
       "      <td>0.000035</td>\n",
       "      <td>3.517728e-05</td>\n",
       "      <td>3.478741e-05</td>\n",
       "      <td>3.491614e-05</td>\n",
       "      <td>3.491614e-05</td>\n",
       "      <td>1.0</td>\n",
       "    </tr>\n",
       "    <tr>\n",
       "      <th>4120667</th>\n",
       "      <td>0.000037</td>\n",
       "      <td>3.717243e-05</td>\n",
       "      <td>3.645914e-05</td>\n",
       "      <td>3.651341e-05</td>\n",
       "      <td>3.651341e-05</td>\n",
       "      <td>1.0</td>\n",
       "    </tr>\n",
       "    <tr>\n",
       "      <th>4120668</th>\n",
       "      <td>0.000033</td>\n",
       "      <td>3.352500e-05</td>\n",
       "      <td>3.288378e-05</td>\n",
       "      <td>3.350758e-05</td>\n",
       "      <td>3.350758e-05</td>\n",
       "      <td>1.0</td>\n",
       "    </tr>\n",
       "    <tr>\n",
       "      <th>4120669</th>\n",
       "      <td>0.000024</td>\n",
       "      <td>2.435048e-05</td>\n",
       "      <td>2.396385e-05</td>\n",
       "      <td>2.415101e-05</td>\n",
       "      <td>2.415101e-05</td>\n",
       "      <td>1.0</td>\n",
       "    </tr>\n",
       "  </tbody>\n",
       "</table>\n",
       "<p>4120670 rows × 6 columns</p>\n",
       "</div>"
      ],
      "text/plain": [
       "                0             1             2             3             4    5\n",
       "0        0.000000  8.724481e-07  8.616771e-07  8.616771e-07  7.557619e-07  1.0\n",
       "1        0.000000  2.192982e-05  2.138834e-05  2.138834e-05  1.875935e-05  1.0\n",
       "2        0.000000  1.619105e-05  1.598866e-05  1.598866e-05  1.402338e-05  1.0\n",
       "3        0.000000  2.996524e-06  2.959067e-06  2.959067e-06  2.595346e-06  1.0\n",
       "4        0.000000  7.224507e-06  7.041610e-06  7.041610e-06  6.176074e-06  1.0\n",
       "...           ...           ...           ...           ...           ...  ...\n",
       "4120665  0.000021  2.171649e-05  2.141046e-05  2.162971e-05  2.162971e-05  1.0\n",
       "4120666  0.000035  3.517728e-05  3.478741e-05  3.491614e-05  3.491614e-05  1.0\n",
       "4120667  0.000037  3.717243e-05  3.645914e-05  3.651341e-05  3.651341e-05  1.0\n",
       "4120668  0.000033  3.352500e-05  3.288378e-05  3.350758e-05  3.350758e-05  1.0\n",
       "4120669  0.000024  2.435048e-05  2.396385e-05  2.415101e-05  2.415101e-05  1.0\n",
       "\n",
       "[4120670 rows x 6 columns]"
      ]
     },
     "execution_count": 11,
     "metadata": {},
     "output_type": "execute_result"
    }
   ],
   "source": [
    "pd.DataFrame(norm_movements)"
   ]
  },
  {
   "attachments": {},
   "cell_type": "markdown",
   "metadata": {},
   "source": [
    "# Testes"
   ]
  },
  {
   "cell_type": "code",
   "execution_count": null,
   "metadata": {},
   "outputs": [],
   "source": []
  },
  {
   "cell_type": "code",
   "execution_count": 7,
   "metadata": {},
   "outputs": [],
   "source": [
    "df_min_max_scaled = df_s_e_p_500.copy()\n",
    "for column in df_min_max_scaled.columns:\n",
    "    if column not in ('name', 'Date'):\n",
    "        df_min_max_scaled[column] = (df_min_max_scaled[column] -\n",
    "        df_min_max_scaled[column].min()) / (df_min_max_scaled[column].max() -\n",
    "        df_min_max_scaled[column].min())\n",
    "        df_min_max_scaled"
   ]
  },
  {
   "cell_type": "code",
   "execution_count": 8,
   "metadata": {},
   "outputs": [],
   "source": [
    "from sklearn.datasets import make_blobs"
   ]
  },
  {
   "cell_type": "code",
   "execution_count": 10,
   "metadata": {},
   "outputs": [
    {
     "name": "stdout",
     "output_type": "stream",
     "text": [
      "For n_clusters = 2 The average silhouette_score is : 0.9285182655604763\n",
      "For n_clusters = 3 The average silhouette_score is : 0.620777746760166\n",
      "For n_clusters = 4 The average silhouette_score is : 0.6113400897709966\n",
      "For n_clusters = 5 The average silhouette_score is : 0.5256570838347181\n",
      "For n_clusters = 6 The average silhouette_score is : 0.5696288206295844\n"
     ]
    }
   ],
   "source": [
    "from sklearn.datasets import make_blobs\n",
    "from sklearn.cluster import KMeans\n",
    "from sklearn.metrics import silhouette_samples, silhouette_score\n",
    "\n",
    "import matplotlib.pyplot as plt\n",
    "import matplotlib.cm as cm\n",
    "import numpy as np\n",
    "\n",
    "# Generating the sample data from make_blobs\n",
    "# This particular setting has one distinct cluster and 3 clusters placed close\n",
    "# together.\n",
    "\"\"\"X, y = make_blobs(\n",
    "    n_samples=500,\n",
    "    n_features=2,\n",
    "    centers=4,\n",
    "    cluster_std=1,\n",
    "    center_box=(-10.0, 10.0),\n",
    "    shuffle=True,\n",
    "    random_state=1,\n",
    ")  # For reproducibility\n",
    "\"\"\"\n",
    "\n",
    "# X = df_min_max_scaled[['Open', 'High', 'Low', 'Close', 'Adj Close', 'Volume']].reset_index(drop=True).sample(10000).copy()\n",
    "X = reduced_data\n",
    "range_n_clusters = [2, 3, 4, 5, 6]\n",
    "\n",
    "for n_clusters in range_n_clusters:\n",
    "    # Create a subplot with 1 row and 2 columns\n",
    "    fig, (ax1, ax2) = plt.subplots(1, 2)\n",
    "    fig.set_size_inches(18, 7)\n",
    "\n",
    "    # The 1st subplot is the silhouette plot\n",
    "    # The silhouette coefficient can range from -1, 1 but in this example all\n",
    "    # lie within [-0.1, 1]\n",
    "    ax1.set_xlim([-0.1, 1])\n",
    "    # The (n_clusters+1)*10 is for inserting blank space between silhouette\n",
    "    # plots of individual clusters, to demarcate them clearly.\n",
    "    ax1.set_ylim([0, len(X) + (n_clusters + 1) * 10])\n",
    "\n",
    "    # Initialize the clusterer with n_clusters value and a random generator\n",
    "    # seed of 10 for reproducibility.\n",
    "    clusterer = KMeans(n_clusters=n_clusters, n_init=\"auto\", random_state=10)\n",
    "    cluster_labels = clusterer.fit_predict(X)\n",
    "\n",
    "    # The silhouette_score gives the average value for all the samples.\n",
    "    # This gives a perspective into the density and separation of the formed\n",
    "    # clusters\n",
    "    silhouette_avg = silhouette_score(X, cluster_labels)\n",
    "    print(\n",
    "        \"For n_clusters =\",\n",
    "        n_clusters,\n",
    "        \"The average silhouette_score is :\",\n",
    "        silhouette_avg,\n",
    "    )\n",
    "\n",
    "    # Compute the silhouette scores for each sample\n",
    "    sample_silhouette_values = silhouette_samples(X, cluster_labels)\n",
    "\n",
    "    y_lower = 10\n",
    "    for i in range(n_clusters):\n",
    "        # Aggregate the silhouette scores for samples belonging to\n",
    "        # cluster i, and sort them\n",
    "        ith_cluster_silhouette_values = sample_silhouette_values[cluster_labels == i]\n",
    "\n",
    "        ith_cluster_silhouette_values.sort()\n",
    "\n",
    "        size_cluster_i = ith_cluster_silhouette_values.shape[0]\n",
    "        y_upper = y_lower + size_cluster_i\n",
    "\n",
    "        color = cm.nipy_spectral(float(i) / n_clusters)\n",
    "        ax1.fill_betweenx(\n",
    "            np.arange(y_lower, y_upper),\n",
    "            0,\n",
    "            ith_cluster_silhouette_values,\n",
    "            facecolor=color,\n",
    "            edgecolor=color,\n",
    "            alpha=0.7,\n",
    "        )\n",
    "\n",
    "        # Label the silhouette plots with their cluster numbers at the middle\n",
    "        ax1.text(-0.05, y_lower + 0.5 * size_cluster_i, str(i))\n",
    "\n",
    "        # Compute the new y_lower for next plot\n",
    "        y_lower = y_upper + 10  # 10 for the 0 samples\n",
    "\n",
    "    ax1.set_title(\"The silhouette plot for the various clusters.\")\n",
    "    ax1.set_xlabel(\"The silhouette coefficient values\")\n",
    "    ax1.set_ylabel(\"Cluster label\")\n",
    "\n",
    "    # The vertical line for average silhouette score of all the values\n",
    "    ax1.axvline(x=silhouette_avg, color=\"red\", linestyle=\"--\")\n",
    "\n",
    "    ax1.set_yticks([])  # Clear the yaxis labels / ticks\n",
    "    ax1.set_xticks([-0.1, 0, 0.2, 0.4, 0.6, 0.8, 1])\n",
    "\n",
    "    # 2nd Plot showing the actual clusters formed\n",
    "    colors = cm.nipy_spectral(cluster_labels.astype(float) / n_clusters)\n",
    "    ax2.scatter(\n",
    "        # X.iloc[:, 0], X.iloc[:, 1], marker=\".\", s=30, lw=0, alpha=0.7, c=colors, edgecolor=\"k\"\n",
    "        X[:, 0], X[:, 1], marker=\".\", s=30, lw=0, alpha=0.7, c=colors, edgecolor=\"k\"\n",
    "    )\n",
    "\n",
    "    # Labeling the clusters\n",
    "    centers = clusterer.cluster_centers_\n",
    "    # Draw white circles at cluster centers\n",
    "    ax2.scatter(\n",
    "        centers[:, 0],\n",
    "        centers[:, 1],\n",
    "        marker=\"o\",\n",
    "        c=\"white\",\n",
    "        alpha=1,\n",
    "        s=200,\n",
    "        edgecolor=\"k\",\n",
    "    )\n",
    "\n",
    "    for i, c in enumerate(centers):\n",
    "        ax2.scatter(c[0], c[1], marker=\"$%d$\" % i, alpha=1, s=50, edgecolor=\"k\")\n",
    "\n",
    "    ax2.set_title(\"The visualization of the clustered data.\")\n",
    "    ax2.set_xlabel(\"Feature space for the 1st feature\")\n",
    "    ax2.set_ylabel(\"Feature space for the 2nd feature\")\n",
    "\n",
    "    plt.suptitle(\n",
    "        \"Silhouette analysis for KMeans clustering on sample data with n_clusters = %d\"\n",
    "        % n_clusters,\n",
    "        fontsize=14,\n",
    "        fontweight=\"bold\",\n",
    "    )\n",
    "\n",
    "plt.show()"
   ]
  },
  {
   "cell_type": "code",
   "execution_count": 9,
   "metadata": {},
   "outputs": [],
   "source": [
    "reduced_data = PCA(n_components=2).fit_transform(df_min_max_scaled.drop(columns=['Date', 'name']))"
   ]
  },
  {
   "cell_type": "code",
   "execution_count": 42,
   "metadata": {},
   "outputs": [
    {
     "data": {
      "text/plain": [
       "67500"
      ]
     },
     "execution_count": 42,
     "metadata": {},
     "output_type": "execute_result"
    }
   ],
   "source": [
    "len(reduced_data)"
   ]
  },
  {
   "attachments": {},
   "cell_type": "markdown",
   "metadata": {},
   "source": []
  },
  {
   "attachments": {},
   "cell_type": "markdown",
   "metadata": {},
   "source": []
  },
  {
   "attachments": {},
   "cell_type": "markdown",
   "metadata": {},
   "source": []
  },
  {
   "attachments": {},
   "cell_type": "markdown",
   "metadata": {},
   "source": [
    "# Medidas de similaridade"
   ]
  },
  {
   "attachments": {},
   "cell_type": "markdown",
   "metadata": {},
   "source": [
    "\n",
    "1 - Um determinado problema, apresenta 10 séries temporais distintas. Gostaríamos de agrupá-las em 3 grupos, de acordo com um critério de similaridade, baseado no valor máximo de correlação cruzada entre elas. Descreva em tópicos todos os passos necessários."
   ]
  },
  {
   "attachments": {},
   "cell_type": "markdown",
   "metadata": {},
   "source": [
    "- Normalização dos dados\n",
    "- Passo 2\n",
    "- Passo 3"
   ]
  },
  {
   "attachments": {},
   "cell_type": "markdown",
   "metadata": {},
   "source": [
    "2 - Para o problema da questão anterior, indique qual algoritmo de clusterização você usaria. Justifique."
   ]
  },
  {
   "attachments": {},
   "cell_type": "markdown",
   "metadata": {},
   "source": [
    "- Kmeans, justificativa"
   ]
  },
  {
   "attachments": {},
   "cell_type": "markdown",
   "metadata": {},
   "source": [
    "3 - Indique um caso de uso para essa solução projetada."
   ]
  },
  {
   "attachments": {},
   "cell_type": "markdown",
   "metadata": {},
   "source": [
    "- Preço de ações"
   ]
  },
  {
   "attachments": {},
   "cell_type": "markdown",
   "metadata": {},
   "source": [
    "4 - Sugira outra estratégia para medir a similaridade entre séries temporais. Descreva em tópicos os passos necessários."
   ]
  },
  {
   "attachments": {},
   "cell_type": "markdown",
   "metadata": {},
   "source": [
    "- Correlação de Pearson.\n",
    "Passos:\n",
    "- Passo 1\n",
    "- Passo 2\n",
    "- Passo 3"
   ]
  },
  {
   "cell_type": "code",
   "execution_count": null,
   "metadata": {},
   "outputs": [],
   "source": []
  }
 ],
 "metadata": {
  "kernelspec": {
   "display_name": "venv",
   "language": "python",
   "name": "python3"
  },
  "language_info": {
   "codemirror_mode": {
    "name": "ipython",
    "version": 3
   },
   "file_extension": ".py",
   "mimetype": "text/x-python",
   "name": "python",
   "nbconvert_exporter": "python",
   "pygments_lexer": "ipython3",
   "version": "3.10.6 (main, Nov 14 2022, 16:10:14) [GCC 11.3.0]"
  },
  "orig_nbformat": 4,
  "vscode": {
   "interpreter": {
    "hash": "8a663d921fe181a6a763edd78ff1b5d5345118539d47dc0dce2cff1b15d38fae"
   }
  }
 },
 "nbformat": 4,
 "nbformat_minor": 2
}
