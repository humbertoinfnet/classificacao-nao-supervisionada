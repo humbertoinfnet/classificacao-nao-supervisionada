{
 "cells": [
  {
   "attachments": {},
   "cell_type": "markdown",
   "metadata": {},
   "source": [
    "# Infraestrutura\n",
    "\n",
    "_____________________________________"
   ]
  },
  {
   "attachments": {},
   "cell_type": "markdown",
   "metadata": {},
   "source": [
    "> Versão do Python e ambiente virtual"
   ]
  },
  {
   "attachments": {
    "image.png": {
     "image/png": "[encoded data removed]"
    }
   },
   "cell_type": "markdown",
   "metadata": {},
   "source": [
    "![image.png](attachment:image.png)"
   ]
  },
  {
   "cell_type": "code",
   "execution_count": null,
   "metadata": {},
   "outputs": [],
   "source": []
  },
  {
   "attachments": {},
   "cell_type": "markdown",
   "metadata": {},
   "source": [
    "# Libs"
   ]
  },
  {
   "attachments": {},
   "cell_type": "markdown",
   "metadata": {},
   "source": [
    "## Plot"
   ]
  },
  {
   "cell_type": "code",
   "execution_count": null,
   "metadata": {},
   "outputs": [],
   "source": [
    "import matplotlib.pyplot as plt\n",
    "import seaborn as sns"
   ]
  },
  {
   "attachments": {},
   "cell_type": "markdown",
   "metadata": {},
   "source": [
    "## Cluster"
   ]
  },
  {
   "cell_type": "code",
   "execution_count": 29,
   "metadata": {},
   "outputs": [],
   "source": [
    "from sklearn.decomposition import PCA\n",
    "from sklearn.preprocessing import Normalizer"
   ]
  },
  {
   "attachments": {},
   "cell_type": "markdown",
   "metadata": {},
   "source": [
    "## Data manipulation"
   ]
  },
  {
   "cell_type": "code",
   "execution_count": null,
   "metadata": {},
   "outputs": [],
   "source": [
    "import pandas as pd\n",
    "import os"
   ]
  },
  {
   "attachments": {},
   "cell_type": "markdown",
   "metadata": {},
   "source": [
    "## Data Request"
   ]
  },
  {
   "cell_type": "code",
   "execution_count": null,
   "metadata": {},
   "outputs": [],
   "source": [
    "df = pd.read_csv('data/dataset.csv')"
   ]
  },
  {
   "attachments": {},
   "cell_type": "markdown",
   "metadata": {},
   "source": [
    "# Escolha da base\n",
    "\n",
    "___________________________________________________________"
   ]
  },
  {
   "attachments": {},
   "cell_type": "markdown",
   "metadata": {},
   "source": [
    "1- Escolha uma base de dados para realizar o trabalho. Essa base será usada em um problema de clusterização.\n",
    "> Dados Bancários de empréstimos"
   ]
  },
  {
   "attachments": {},
   "cell_type": "markdown",
   "metadata": {},
   "source": [
    "2- Escreva a justificativa para a escolha de dados, dando sua motivação e objetivos.\n",
    "> Trabalhar com dados na área de finanças, buscando aumentar meus conhecimentos no ramo, tendo em vista meu campo de atuação em uma empresa do setor financeiro"
   ]
  },
  {
   "attachments": {},
   "cell_type": "markdown",
   "metadata": {},
   "source": [
    "3- Mostre através de gráficos a faixa dinâmica das variáveis que serão usadas nas tarefas de clusterização. "
   ]
  },
  {
   "cell_type": "code",
   "execution_count": 26,
   "metadata": {},
   "outputs": [
    {
     "data": {
      "text/html": [
       "<div>\n",
       "<style scoped>\n",
       "    .dataframe tbody tr th:only-of-type {\n",
       "        vertical-align: middle;\n",
       "    }\n",
       "\n",
       "    .dataframe tbody tr th {\n",
       "        vertical-align: top;\n",
       "    }\n",
       "\n",
       "    .dataframe thead th {\n",
       "        text-align: right;\n",
       "    }\n",
       "</style>\n",
       "<table border=\"1\" class=\"dataframe\">\n",
       "  <thead>\n",
       "    <tr style=\"text-align: right;\">\n",
       "      <th></th>\n",
       "      <th>Open</th>\n",
       "      <th>High</th>\n",
       "      <th>Low</th>\n",
       "      <th>Close</th>\n",
       "      <th>Adj Close</th>\n",
       "      <th>Volume</th>\n",
       "    </tr>\n",
       "  </thead>\n",
       "  <tbody>\n",
       "    <tr>\n",
       "      <th>count</th>\n",
       "      <td>4.120670e+06</td>\n",
       "      <td>4.120670e+06</td>\n",
       "      <td>4.120670e+06</td>\n",
       "      <td>4.120670e+06</td>\n",
       "      <td>4.120670e+06</td>\n",
       "      <td>4.120670e+06</td>\n",
       "    </tr>\n",
       "    <tr>\n",
       "      <th>mean</th>\n",
       "      <td>4.907833e+01</td>\n",
       "      <td>4.999149e+01</td>\n",
       "      <td>4.880729e+01</td>\n",
       "      <td>4.941343e+01</td>\n",
       "      <td>4.204558e+01</td>\n",
       "      <td>5.240059e+06</td>\n",
       "    </tr>\n",
       "    <tr>\n",
       "      <th>std</th>\n",
       "      <td>1.180251e+02</td>\n",
       "      <td>1.193862e+02</td>\n",
       "      <td>1.163993e+02</td>\n",
       "      <td>1.179184e+02</td>\n",
       "      <td>1.142766e+02</td>\n",
       "      <td>2.882202e+07</td>\n",
       "    </tr>\n",
       "    <tr>\n",
       "      <th>min</th>\n",
       "      <td>0.000000e+00</td>\n",
       "      <td>1.302100e-02</td>\n",
       "      <td>1.237000e-02</td>\n",
       "      <td>1.302100e-02</td>\n",
       "      <td>1.858731e-03</td>\n",
       "      <td>0.000000e+00</td>\n",
       "    </tr>\n",
       "    <tr>\n",
       "      <th>25%</th>\n",
       "      <td>7.863405e+00</td>\n",
       "      <td>8.474527e+00</td>\n",
       "      <td>8.243189e+00</td>\n",
       "      <td>8.360000e+00</td>\n",
       "      <td>4.120000e+00</td>\n",
       "      <td>4.428000e+05</td>\n",
       "    </tr>\n",
       "    <tr>\n",
       "      <th>50%</th>\n",
       "      <td>2.434667e+01</td>\n",
       "      <td>2.475000e+01</td>\n",
       "      <td>2.412500e+01</td>\n",
       "      <td>2.445500e+01</td>\n",
       "      <td>1.637348e+01</td>\n",
       "      <td>1.338500e+06</td>\n",
       "    </tr>\n",
       "    <tr>\n",
       "      <th>75%</th>\n",
       "      <td>5.343000e+01</td>\n",
       "      <td>5.403000e+01</td>\n",
       "      <td>5.281250e+01</td>\n",
       "      <td>5.345000e+01</td>\n",
       "      <td>4.289384e+01</td>\n",
       "      <td>3.563600e+06</td>\n",
       "    </tr>\n",
       "    <tr>\n",
       "      <th>max</th>\n",
       "      <td>5.977610e+03</td>\n",
       "      <td>5.982450e+03</td>\n",
       "      <td>5.884060e+03</td>\n",
       "      <td>5.959330e+03</td>\n",
       "      <td>5.959330e+03</td>\n",
       "      <td>7.421641e+09</td>\n",
       "    </tr>\n",
       "  </tbody>\n",
       "</table>\n",
       "</div>"
      ],
      "text/plain": [
       "               Open          High           Low         Close     Adj Close  \\\n",
       "count  4.120670e+06  4.120670e+06  4.120670e+06  4.120670e+06  4.120670e+06   \n",
       "mean   4.907833e+01  4.999149e+01  4.880729e+01  4.941343e+01  4.204558e+01   \n",
       "std    1.180251e+02  1.193862e+02  1.163993e+02  1.179184e+02  1.142766e+02   \n",
       "min    0.000000e+00  1.302100e-02  1.237000e-02  1.302100e-02  1.858731e-03   \n",
       "25%    7.863405e+00  8.474527e+00  8.243189e+00  8.360000e+00  4.120000e+00   \n",
       "50%    2.434667e+01  2.475000e+01  2.412500e+01  2.445500e+01  1.637348e+01   \n",
       "75%    5.343000e+01  5.403000e+01  5.281250e+01  5.345000e+01  4.289384e+01   \n",
       "max    5.977610e+03  5.982450e+03  5.884060e+03  5.959330e+03  5.959330e+03   \n",
       "\n",
       "             Volume  \n",
       "count  4.120670e+06  \n",
       "mean   5.240059e+06  \n",
       "std    2.882202e+07  \n",
       "min    0.000000e+00  \n",
       "25%    4.428000e+05  \n",
       "50%    1.338500e+06  \n",
       "75%    3.563600e+06  \n",
       "max    7.421641e+09  "
      ]
     },
     "execution_count": 26,
     "metadata": {},
     "output_type": "execute_result"
    }
   ],
   "source": [
    "df.describe()"
   ]
  },
  {
   "cell_type": "code",
   "execution_count": 27,
   "metadata": {},
   "outputs": [
    {
     "data": {
      "text/plain": [
       "<AxesSubplot: >"
      ]
     },
     "execution_count": 27,
     "metadata": {},
     "output_type": "execute_result"
    },
    {
     "data": {
      "image/png": "[encoded data removed]",
      "text/plain": [
       "<Figure size 640x480 with 1 Axes>"
      ]
     },
     "metadata": {},
     "output_type": "display_data"
    }
   ],
   "source": [
    "plt.xticks(rotation=70)\n",
    "sns.barplot(data=df)"
   ]
  },
  {
   "attachments": {},
   "cell_type": "markdown",
   "metadata": {},
   "source": [
    "4- Analise os resultados mostrados. O que deve ser feito com os dados antes da etapa de clusterização?\n",
    "> As variáveis possuem escalas diferentes, necessitando que seje feita a normalização dos dados, bem como a etapa de pre-processamento, a fim de tratar dados nulos, variáveis categóricas, limpeza de dados, análise gráfica, disposição dos valores, entre outros fatores necessários para que seja feita a correta realização da clusterização."
   ]
  },
  {
   "attachments": {},
   "cell_type": "markdown",
   "metadata": {},
   "source": [
    "5- Realize o pré-processamento adequado dos dados. Descreva os passos necessários.\n",
    "- Leitura dos dados;\n",
    "- Análise de variáveis;\n",
    "- Análise gráfica;\n",
    "- Tratamento de variáveis categóricas;\n",
    "- Tratamento dos dados nulos;\n",
    "- Limpeza dos dados;\n",
    "- Normalização"
   ]
  },
  {
   "attachments": {},
   "cell_type": "markdown",
   "metadata": {},
   "source": [
    "# Clusterização\n",
    "\n",
    "____________________________________________________________"
   ]
  },
  {
   "attachments": {},
   "cell_type": "markdown",
   "metadata": {},
   "source": [
    "1- Com os resultados em mão, descreva o processo de mensuração do índice de silhueta. Mostre o gráfico e justifique o número de clusters escolhidos.\n",
    "> Foi escolhido o número de cluster igual a 2, devido ao maior valor do índice de silhueta, bem como pelo comportamento da distribuição dos dados."
   ]
  },
  {
   "attachments": {},
   "cell_type": "markdown",
   "metadata": {},
   "source": [
    "2 - Compare os dois resultados, aponte as semelhanças e diferenças e interprete.\n",
    "> Kmeans utiliza a técnica do centroid, classificando os pontos de acordo com sua proximidade ao ponto central mais perto. É necessário atribuir o número de cluster manualmente.\n",
    "> Dbscan é pautado na ideia de densidade, com uma distância máxima de classificação predefinida. Encontrando assim o número de cluster de forma automática."
   ]
  },
  {
   "attachments": {},
   "cell_type": "markdown",
   "metadata": {},
   "source": [
    "3 - Escolha mais duas medidas de validação para comparar com o índice de silhueta e analise os resultados encontrados. Observe, para a escolha, medidas adequadas aos algoritmos.\n",
    "> CVNN e DBCV"
   ]
  },
  {
   "attachments": {},
   "cell_type": "markdown",
   "metadata": {},
   "source": [
    "4 - Realizando a análise, responda: A silhueta é um o índice indicado para escolher o número de clusters para o algoritmo de DBScan?\n",
    "> Não, pois no algoritmo do Dbscan o número de cluster é definido automaticamente de acordo com a distância dos pontos."
   ]
  },
  {
   "attachments": {},
   "cell_type": "markdown",
   "metadata": {},
   "source": [
    "## Pre-Processamento"
   ]
  },
  {
   "cell_type": "code",
   "execution_count": null,
   "metadata": {},
   "outputs": [],
   "source": [
    "for col in df.columns:\n",
    "    print(col)"
   ]
  },
  {
   "cell_type": "code",
   "execution_count": null,
   "metadata": {},
   "outputs": [],
   "source": [
    "df.describe()"
   ]
  },
  {
   "cell_type": "code",
   "execution_count": null,
   "metadata": {},
   "outputs": [],
   "source": [
    "df_encoding.dtypes"
   ]
  },
  {
   "cell_type": "code",
   "execution_count": null,
   "metadata": {},
   "outputs": [],
   "source": [
    "df.nunique()"
   ]
  },
  {
   "cell_type": "code",
   "execution_count": null,
   "metadata": {},
   "outputs": [],
   "source": [
    "df_encoding.isna().sum()"
   ]
  },
  {
   "cell_type": "code",
   "execution_count": null,
   "metadata": {},
   "outputs": [],
   "source": [
    "df_encoding.dropna(inplace=True)"
   ]
  },
  {
   "cell_type": "code",
   "execution_count": null,
   "metadata": {},
   "outputs": [],
   "source": [
    "def enconding(df, dumies=False):\n",
    "    if dumies:\n",
    "        return pd.get_dummies(df, columns=['age'])\n",
    "    lb = LabelEncoder()\n",
    "    df_encoding = df.copy()\n",
    "    df_encoding['age'] = lb.fit_transform(df_encoding[['age']])\n",
    "    return df_encoding\n",
    "\n",
    "df_encoding = enconding(df)"
   ]
  },
  {
   "cell_type": "code",
   "execution_count": null,
   "metadata": {},
   "outputs": [],
   "source": [
    "normalizer = Normalizer()\n",
    "data_normalizer = normalizer.fit_transform(df_encoding)\n",
    "df_normalizer = pd.DataFrame(data_normalizer)\n",
    "df_normalizer"
   ]
  },
  {
   "attachments": {},
   "cell_type": "markdown",
   "metadata": {},
   "source": [
    "## Diminuição da dimensionalidade"
   ]
  },
  {
   "cell_type": "code",
   "execution_count": null,
   "metadata": {},
   "outputs": [],
   "source": [
    "pca = PCA(n_components=3)\n",
    "principalComponents = pca.fit_transform(df_normalizer)\n",
    "\n",
    "features = range(pca.n_components_)\n",
    "plt.bar(features, pca.explained_variance_ratio_, color='black')\n",
    "plt.xlabel('PCA features')\n",
    "plt.ylabel('variance %')\n",
    "plt.xticks(features)\n",
    "\n",
    "PCA_components = pd.DataFrame(principalComponents)"
   ]
  },
  {
   "cell_type": "markdown",
   "metadata": {},
   "source": [
    "## Cluster"
   ]
  },
  {
   "cell_type": "code",
   "execution_count": null,
   "metadata": {},
   "outputs": [],
   "source": [
    "from sklearn.cluster import DBSCAN\n",
    "\n",
    "class Clustering:\n",
    "    \n",
    "    def __init__(self, data: pd.DataFrame, range_n_clusters: list):\n",
    "        self.X = data\n",
    "        self.range_n_clusters = range_n_clusters\n",
    "        self.n_clusters = None\n",
    "        self.centers = None\n",
    "        self.cluster_labels = None\n",
    "        self.silhouette_avg = None\n",
    "        self.sample_silhouette_values = None\n",
    "\n",
    "    def start(self, type_method='kmeans'):\n",
    "        if type_method == 'kmeans':\n",
    "            for self.n_clusters in self.range_n_clusters:\n",
    "                self.handle_kmeans()\n",
    "                self.handle_silhouettes()\n",
    "                self.handle_plot()\n",
    "                \n",
    "        else:\n",
    "            self.handle_dbscan()\n",
    "        self.handle_silhouettes()\n",
    "        self.handle_plot()\n",
    "        plt.show()\n",
    "        \n",
    "    def handle_kmeans(self):\n",
    "        clusterer = KMeans(n_clusters=self.n_clusters, n_init=10, random_state=10)\n",
    "        self.cluster_labels = clusterer.fit_predict(self.X)\n",
    "        self.centers = clusterer.cluster_centers_\n",
    "        \n",
    "    def handle_dbscan(self):\n",
    "        clusterer = DBSCAN(eps=0.1, min_samples=5)\n",
    "        self.cluster_labels = clusterer.fit_predict(self.X)\n",
    "        serie_labels = pd.Series(labels)\n",
    "        index = []\n",
    "        for label in serie_labels.unique():\n",
    "            index.append(serie_labels[serie_labels == label].index.tolist()[0])\n",
    "        self.centers = db.components_[index]\n",
    "        self.n_clusters = serie_labels.nunique()\n",
    "        \n",
    "    def handle_silhouettes(self):\n",
    "        self.silhouette_avg = silhouette_score(self.X, self.cluster_labels)\n",
    "        print(\n",
    "            \"For n_clusters =\",\n",
    "            self.n_clusters,\n",
    "            \"The average silhouette_score is :\",\n",
    "            self.silhouette_avg,\n",
    "        )\n",
    "\n",
    "        self.sample_silhouette_values = silhouette_samples(self.X, self.cluster_labels)\n",
    "    \n",
    "    def handle_plot(self):\n",
    "        fig, (ax1, ax2) = plt.subplots(1, 2)\n",
    "        fig.set_size_inches(18, 7)\n",
    "        ax1.set_xlim([-0.1, 1])\n",
    "        ax1.set_ylim([0, len(self.X) + (self.n_clusters + 1) * 10])\n",
    "        y_lower = 10\n",
    "        for i in range(self.n_clusters):\n",
    "            # Aggregate the silhouette scores for samples belonging to\n",
    "            # cluster i, and sort them\n",
    "            ith_cluster_silhouette_values = self.sample_silhouette_values[self.cluster_labels == i]\n",
    "\n",
    "            ith_cluster_silhouette_values.sort()\n",
    "\n",
    "            size_cluster_i = ith_cluster_silhouette_values.shape[0]\n",
    "            y_upper = y_lower + size_cluster_i\n",
    "\n",
    "            color = cm.nipy_spectral(float(i) / self.n_clusters)\n",
    "            ax1.fill_betweenx(\n",
    "                np.arange(y_lower, y_upper),\n",
    "                0,\n",
    "                ith_cluster_silhouette_values,\n",
    "                facecolor=color,\n",
    "                edgecolor=color,\n",
    "                alpha=0.7,\n",
    "            )\n",
    "        ax1.set_title(\"The silhouette plot for the various clusters.\")\n",
    "        ax1.set_xlabel(\"The silhouette coefficient values\")\n",
    "        ax1.set_ylabel(\"Cluster label\")\n",
    "        ax1.axvline(x=self.silhouette_avg, color=\"red\", linestyle=\"--\")\n",
    "        ax1.set_yticks([])\n",
    "        ax1.set_xticks([-0.1, 0, 0.2, 0.4, 0.6, 0.8, 1])\n",
    "        colors = cm.nipy_spectral(self.cluster_labels.astype(float) / self.n_clusters)\n",
    "        ax2.scatter(\n",
    "            # X[:, 0], X[:, 1], marker=\".\", s=30, lw=0, alpha=0.7, c=colors, edgecolor=\"k\"\n",
    "            X.iloc[:, 0], X.iloc[:, 1], marker=\".\", s=30, lw=0, alpha=0.7, c=colors, edgecolor=\"k\"\n",
    "        )\n",
    "        \n",
    "        ax2.scatter(\n",
    "            self.centers[:, 0],\n",
    "            self.centers[:, 1],\n",
    "            marker=\"o\",\n",
    "            c=\"white\",\n",
    "            alpha=1,\n",
    "            s=200,\n",
    "            edgecolor=\"k\",\n",
    "        )\n",
    "        for i, c in enumerate(self.centers):\n",
    "            ax2.scatter(c[0], c[1], marker=\"$%d$\" % i, alpha=1, s=50, edgecolor=\"k\")\n",
    "\n",
    "        ax2.set_title(\"The visualization of the clustered data.\")\n",
    "        ax2.set_xlabel(\"Feature space for the 1st feature\")\n",
    "        ax2.set_ylabel(\"Feature space for the 2nd feature\")\n",
    "\n",
    "        plt.suptitle(\n",
    "            \"Silhouette analysis for KMeans clustering on sample data with n_clusters = %d\"\n",
    "            % self.n_clusters,\n",
    "            fontsize=14,\n",
    "            fontweight=\"bold\",\n",
    "        )\n",
    "        "
   ]
  },
  {
   "attachments": {},
   "cell_type": "markdown",
   "metadata": {},
   "source": [
    "## Silhueta"
   ]
  },
  {
   "attachments": {},
   "cell_type": "markdown",
   "metadata": {},
   "source": [
    "### Kmeans"
   ]
  },
  {
   "cell_type": "code",
   "execution_count": null,
   "metadata": {},
   "outputs": [],
   "source": [
    "Clustering(X, range_n_clusters).start(type_method='kmeans')"
   ]
  },
  {
   "attachments": {},
   "cell_type": "markdown",
   "metadata": {},
   "source": [
    "### Dbscan"
   ]
  },
  {
   "cell_type": "code",
   "execution_count": null,
   "metadata": {},
   "outputs": [],
   "source": [
    "Clustering(X, range_n_clusters).start(type_method='dbscan')"
   ]
  },
  {
   "attachments": {},
   "cell_type": "markdown",
   "metadata": {},
   "source": [
    "## Informação mútua"
   ]
  },
  {
   "attachments": {},
   "cell_type": "markdown",
   "metadata": {},
   "source": [
    "### Kmeans"
   ]
  },
  {
   "attachments": {},
   "cell_type": "markdown",
   "metadata": {},
   "source": [
    "### Dbscan"
   ]
  },
  {
   "attachments": {},
   "cell_type": "markdown",
   "metadata": {},
   "source": [
    "## CVNN"
   ]
  },
  {
   "attachments": {},
   "cell_type": "markdown",
   "metadata": {},
   "source": [
    "### Kmeans"
   ]
  },
  {
   "attachments": {},
   "cell_type": "markdown",
   "metadata": {},
   "source": [
    "### Dbscan"
   ]
  },
  {
   "attachments": {},
   "cell_type": "markdown",
   "metadata": {},
   "source": [
    "## DBCV"
   ]
  },
  {
   "attachments": {},
   "cell_type": "markdown",
   "metadata": {},
   "source": [
    "### Kmeans"
   ]
  },
  {
   "attachments": {},
   "cell_type": "markdown",
   "metadata": {},
   "source": [
    "### Dbscan"
   ]
  },
  {
   "attachments": {},
   "cell_type": "markdown",
   "metadata": {},
   "source": [
    "# Medidas de similaridade\n",
    "\n",
    "_________________________________________________________________________"
   ]
  },
  {
   "attachments": {},
   "cell_type": "markdown",
   "metadata": {},
   "source": [
    "\n",
    "1 - Um determinado problema, apresenta 10 séries temporais distintas. Gostaríamos de agrupá-las em 3 grupos, de acordo com um critério de similaridade, baseado no valor máximo de correlação cruzada entre elas. Descreva em tópicos todos os passos necessários."
   ]
  },
  {
   "attachments": {},
   "cell_type": "markdown",
   "metadata": {},
   "source": [
    "Passo:\n",
    "- Compara as séries em pares\n",
    "- Mantém uma estática e a outra aplica um offset\n",
    "- Calcula-se a correlação entre elas ao longo de todo o espaço de tempo\n",
    "- Registra o valor de correlção e o offset utilizado\n",
    "- Identifica o maior valor de correlação e qual o offset foi utilizado\n",
    "- Ao final da correlação cruzada teremos a maior similaridade para um offset específico\n",
    "- Esse comparativo é feito entre todas as séries\n",
    "- O valor do sinal do offset identifica os sinais como leader-follower\n",
    "- Separação das séries com maior sincronia"
   ]
  },
  {
   "attachments": {},
   "cell_type": "markdown",
   "metadata": {},
   "source": [
    "2 - Para o problema da questão anterior, indique qual algoritmo de clusterização você usaria. Justifique."
   ]
  },
  {
   "attachments": {},
   "cell_type": "markdown",
   "metadata": {},
   "source": [
    "- Dbscan, pois a série temporal tende a comportamento de clusters com forma arbitrária, e não convexa, dificultando a classificação pelo método do Kmeans. Para esse tipo de dado o dbscan teria melhor desempenho, devido sua característica de classificação por vizinhança."
   ]
  },
  {
   "attachments": {},
   "cell_type": "markdown",
   "metadata": {},
   "source": [
    "3 - Indique um caso de uso para essa solução projetada."
   ]
  },
  {
   "attachments": {},
   "cell_type": "markdown",
   "metadata": {},
   "source": [
    "- Preço de ações"
   ]
  },
  {
   "attachments": {},
   "cell_type": "markdown",
   "metadata": {},
   "source": [
    "4 - Sugira outra estratégia para medir a similaridade entre séries temporais. Descreva em tópicos os passos necessários."
   ]
  },
  {
   "attachments": {},
   "cell_type": "markdown",
   "metadata": {},
   "source": [
    "> DTW.\n",
    "\n",
    "Passos:\n",
    "- Compara as séries em pares\n",
    "- Faz a corrensapondencia dos sinais pelas amplitudes\n",
    "- Monta a matrix de distância aplicando as regras de custo do algorítimo\n",
    "- A matriz resultará no cálculo do custo mínimo para os dois sinais terem a maior sincronia\n",
    "- Pela matrix é possível identificar o leader-follower entre os sinais"
   ]
  }
 ],
 "metadata": {
  "kernelspec": {
   "display_name": "venv",
   "language": "python",
   "name": "python3"
  },
  "language_info": {
   "codemirror_mode": {
    "name": "ipython",
    "version": 3
   },
   "file_extension": ".py",
   "mimetype": "text/x-python",
   "name": "python",
   "nbconvert_exporter": "python",
   "pygments_lexer": "ipython3",
   "version": "3.10.6 (main, Nov 14 2022, 16:10:14) [GCC 11.3.0]"
  },
  "orig_nbformat": 4,
  "vscode": {
   "interpreter": {
    "hash": "8a663d921fe181a6a763edd78ff1b5d5345118539d47dc0dce2cff1b15d38fae"
   }
  }
 },
 "nbformat": 4,
 "nbformat_minor": 2
}
